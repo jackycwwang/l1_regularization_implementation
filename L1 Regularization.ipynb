{
 "cells": [
  {
   "cell_type": "markdown",
   "id": "b6677436",
   "metadata": {},
   "source": [
    "### L1 Regularization Demonstration\n",
    "To demonstrate the use of L1 regularization, we are going to generate some data where the input is a fat matrix and y will only depend on a few of the features, the rest of them will just be noise. Then we will use L1 regularization to find a sparse set of weights that identify the useful dimensions of that."
   ]
  },
  {
   "cell_type": "code",
   "execution_count": 1,
   "id": "a76666b1",
   "metadata": {},
   "outputs": [],
   "source": [
    "import numpy as np\n",
    "import matplotlib.pyplot as plt"
   ]
  },
  {
   "cell_type": "code",
   "execution_count": 35,
   "id": "ed0ae18d",
   "metadata": {},
   "outputs": [
    {
     "data": {
      "text/plain": [
       "array([[-2.92499217,  2.5976741 , -3.09852353, ..., -2.73412069,\n",
       "        -2.0105787 , -0.86305097],\n",
       "       [-1.09665229,  4.19034468, -3.35510542, ...,  2.97867656,\n",
       "         3.58489436, -2.90668015],\n",
       "       [ 2.14856264, -3.55195532,  3.36126474, ...,  4.19189265,\n",
       "         0.34417979,  4.60546745],\n",
       "       ...,\n",
       "       [-0.01324745, -2.48132243,  3.1417616 , ..., -4.34380184,\n",
       "        -2.34274487, -3.07668301],\n",
       "       [-4.01137184, -1.22360047,  4.47396853, ..., -4.81031778,\n",
       "        -0.23357178,  0.24139307],\n",
       "       [ 0.56501499, -3.78036664,  4.10884906, ..., -1.92598958,\n",
       "        -3.78736588,  4.78275154]])"
      ]
     },
     "execution_count": 35,
     "metadata": {},
     "output_type": "execute_result"
    }
   ],
   "source": [
    "# set up a fat matrix\n",
    "# generate a matrix with elements values in the inverval [-5.0, 5.0)\n",
    "N = 50\n",
    "D = 50\n",
    "X = np.random.random((N, D))*10 - 5\n",
    "X"
   ]
  },
  {
   "cell_type": "code",
   "execution_count": 9,
   "id": "2bf597b3",
   "metadata": {},
   "outputs": [],
   "source": [
    "# set up the important features in the way that\n",
    "# only the first three features influence the output\n",
    "true_w = np.array([1, 0.5, -0.5] + [0]*(D-3))"
   ]
  },
  {
   "cell_type": "code",
   "execution_count": 10,
   "id": "a4cad985",
   "metadata": {},
   "outputs": [
    {
     "data": {
      "text/plain": [
       "array([ 1. ,  0.5, -0.5,  0. ,  0. ,  0. ,  0. ,  0. ,  0. ,  0. ,  0. ,\n",
       "        0. ,  0. ,  0. ,  0. ,  0. ,  0. ,  0. ,  0. ,  0. ,  0. ,  0. ,\n",
       "        0. ,  0. ,  0. ,  0. ,  0. ,  0. ,  0. ,  0. ,  0. ,  0. ,  0. ,\n",
       "        0. ,  0. ,  0. ,  0. ,  0. ,  0. ,  0. ,  0. ,  0. ,  0. ,  0. ,\n",
       "        0. ,  0. ,  0. ,  0. ,  0. ,  0. ])"
      ]
     },
     "execution_count": 10,
     "metadata": {},
     "output_type": "execute_result"
    }
   ],
   "source": [
    "true_w"
   ]
  },
  {
   "cell_type": "code",
   "execution_count": 16,
   "id": "fdc1698e",
   "metadata": {},
   "outputs": [],
   "source": [
    "# Set up the target Y\n",
    "# Y = Xw + epsilon, where epsilon ~ N(0, var)\n",
    "# the Gaussian noise is the assumption when doing linear regression of\n",
    "# mu of 0, and variance 0.25 (0.5 is sigma - the standard deviation) \n",
    "Y = X.dot(true_w) + np.random.randn(N)*0.5"
   ]
  },
  {
   "cell_type": "code",
   "execution_count": 27,
   "id": "06d24f0e",
   "metadata": {},
   "outputs": [],
   "source": [
    "# Perform the gradient descent\n",
    "# initial setup\n",
    "costs = []                          # for storing the mse to plot\n",
    "w = np.random.randn(D) / np.sqrt(D) # initialize the random weight, so that w ~ N(0, 1/D)\n",
    "learning_rate = 0.001               # set up the hyperparameter\n",
    "l1 = 10.0                           # set up the L1 penalty term, the lambda"
   ]
  },
  {
   "cell_type": "code",
   "execution_count": 28,
   "id": "bf35eb9c",
   "metadata": {},
   "outputs": [],
   "source": [
    "# do the iterations:\n",
    "for t in range(500):\n",
    "    Yhat = X.dot(w)     # get the prediction\n",
    "    delta = Yhat - Y    # get the difference    \n",
    "    gradient = X.T.dot(delta) + l1*np.sign(w) # compute the gradient\n",
    "    w = w - learning_rate * gradient          # update the weights\n",
    "    mse = delta.dot(delta) / N                # compute mse\n",
    "    costs.append(mse)"
   ]
  },
  {
   "cell_type": "code",
   "execution_count": 30,
   "id": "95bc1650",
   "metadata": {},
   "outputs": [
    {
     "data": {
      "image/png": "[encoded data removed]",
      "text/plain": [
       "<Figure size 432x288 with 1 Axes>"
      ]
     },
     "metadata": {
      "needs_background": "light"
     },
     "output_type": "display_data"
    }
   ],
   "source": [
    "# plot the costs\n",
    "# seems don't need 500 epochs\n",
    "plt.plot(costs);"
   ]
  },
  {
   "cell_type": "code",
   "execution_count": 31,
   "id": "6e5cc216",
   "metadata": {},
   "outputs": [
    {
     "data": {
      "text/plain": [
       "array([ 9.19575193e-01,  4.06455559e-01, -4.17803161e-01, -6.89193704e-03,\n",
       "        1.36390975e-03,  1.40725794e-02, -1.43302795e-02, -2.40926708e-02,\n",
       "        1.27872257e-02, -5.63608482e-03, -1.11381090e-02, -1.38647173e-02,\n",
       "       -7.13731127e-03, -1.26557041e-02,  1.52014698e-02, -9.58838715e-03,\n",
       "        8.47480779e-04,  2.36304987e-02, -7.72709443e-03, -1.77765880e-02,\n",
       "       -6.29726431e-03,  5.17537243e-03, -2.81952774e-03,  1.92727038e-02,\n",
       "        4.85519327e-04,  9.44468516e-03, -3.69170921e-03,  1.47854070e-02,\n",
       "        1.92492525e-03,  1.74799981e-02, -9.48285845e-04, -1.51113580e-02,\n",
       "        1.61681579e-02, -1.09748450e-02,  1.39741475e-02,  1.73950912e-03,\n",
       "       -9.22111301e-03, -4.24247010e-03, -3.18250419e-02, -7.93972894e-04,\n",
       "       -3.25793859e-03,  2.29935382e-02, -1.47156428e-02,  2.10778384e-02,\n",
       "       -8.91985114e-03,  1.33932673e-02,  2.18079493e-02, -2.52490959e-02,\n",
       "       -2.85932707e-03, -1.09197169e-02])"
      ]
     },
     "execution_count": 31,
     "metadata": {},
     "output_type": "execute_result"
    }
   ],
   "source": [
    "# print the final weights\n",
    "w"
   ]
  },
  {
   "cell_type": "code",
   "execution_count": 34,
   "id": "d096c781",
   "metadata": {},
   "outputs": [
    {
     "data": {
      "image/png": "[encoded data removed]",
      "text/plain": [
       "<Figure size 432x288 with 1 Axes>"
      ]
     },
     "metadata": {
      "needs_background": "light"
     },
     "output_type": "display_data"
    }
   ],
   "source": [
    "# compare the w's we found with the true weights, true_w\n",
    "# very similar, proves the effectiveness of L1 regularization\n",
    "plt.plot(true_w, label='true w');\n",
    "plt.plot(w, label='w_map')\n",
    "plt.legend();"
   ]
  },
  {
   "cell_type": "code",
   "execution_count": null,
   "id": "accee2e8",
   "metadata": {},
   "outputs": [],
   "source": []
  },
  {
   "cell_type": "code",
   "execution_count": null,
   "id": "eecdb485",
   "metadata": {},
   "outputs": [],
   "source": []
  }
 ],
 "metadata": {
  "kernelspec": {
   "display_name": "Python 3",
   "language": "python",
   "name": "python3"
  },
  "language_info": {
   "codemirror_mode": {
    "name": "ipython",
    "version": 3
   },
   "file_extension": ".py",
   "mimetype": "text/x-python",
   "name": "python",
   "nbconvert_exporter": "python",
   "pygments_lexer": "ipython3",
   "version": "3.8.8"
  }
 },
 "nbformat": 4,
 "nbformat_minor": 5
}
